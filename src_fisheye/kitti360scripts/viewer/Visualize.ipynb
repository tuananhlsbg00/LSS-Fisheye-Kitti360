{
 "cells": [
  {
   "cell_type": "code",
   "id": "d726c557-34e9-4548-b10f-3921fc64c515",
   "metadata": {
    "ExecuteTime": {
     "end_time": "2025-02-27T05:05:13.987374Z",
     "start_time": "2025-02-27T05:05:13.826864Z"
    }
   },
   "source": [
    "import os\n",
    "import sys\n",
    "import open3d as o3d\n",
    "import numpy as np\n",
    "from kitti360Viewer3D import Kitti360Viewer3D\n",
    "\n",
    "# Ensure the script can find the KITTI360 modules\n",
    "# sys.path.append(os.path.dirname(os.path.abspath(__file__)))\n",
    "\n",
    "# Sequence number (update as needed)\n",
    "SEQUENCE = 3\n",
    "\n",
    "# Initialize the viewer\n",
    "viewer = Kitti360Viewer3D(seq=SEQUENCE)\n",
    "\n",
    "# Load all PLY files (static + dynamic point clouds)\n",
    "viewer.loadWindows(colorType='semantic')"
   ],
   "outputs": [
    {
     "name": "stdout",
     "output_type": "stream",
     "text": [
      "here is the label path: []\n"
     ]
    },
    {
     "ename": "RuntimeError",
     "evalue": "[] does not exist! Please specify KITTI360_DATASET in your environment path.",
     "output_type": "error",
     "traceback": [
      "\u001B[0;31m---------------------------------------------------------------------------\u001B[0m",
      "\u001B[0;31mRuntimeError\u001B[0m                              Traceback (most recent call last)",
      "Cell \u001B[0;32mIn[3], line 14\u001B[0m\n\u001B[1;32m     11\u001B[0m SEQUENCE \u001B[38;5;241m=\u001B[39m \u001B[38;5;241m3\u001B[39m\n\u001B[1;32m     13\u001B[0m \u001B[38;5;66;03m# Initialize the viewer\u001B[39;00m\n\u001B[0;32m---> 14\u001B[0m viewer \u001B[38;5;241m=\u001B[39m \u001B[43mKitti360Viewer3D\u001B[49m\u001B[43m(\u001B[49m\u001B[43mseq\u001B[49m\u001B[38;5;241;43m=\u001B[39;49m\u001B[43mSEQUENCE\u001B[49m\u001B[43m)\u001B[49m\n\u001B[1;32m     16\u001B[0m \u001B[38;5;66;03m# Load all PLY files (static + dynamic point clouds)\u001B[39;00m\n\u001B[1;32m     17\u001B[0m viewer\u001B[38;5;241m.\u001B[39mloadWindows(colorType\u001B[38;5;241m=\u001B[39m\u001B[38;5;124m'\u001B[39m\u001B[38;5;124msemantic\u001B[39m\u001B[38;5;124m'\u001B[39m)\n",
      "File \u001B[0;32m/mnt/D/VinAI/infer_code/KITTI360/kitti360Scripts/kitti360scripts/viewer/kitti360Viewer3D.py:104\u001B[0m, in \u001B[0;36mKitti360Viewer3D.__init__\u001B[0;34m(self, seq, showStatic)\u001B[0m\n\u001B[1;32m    102\u001B[0m \u001B[38;5;28mself\u001B[39m\u001B[38;5;241m.\u001B[39mlabel3DPcdPath  \u001B[38;5;241m=\u001B[39m os\u001B[38;5;241m.\u001B[39mpath\u001B[38;5;241m.\u001B[39mjoin(kitti360Path, \u001B[38;5;124m'\u001B[39m\u001B[38;5;124mdata_3d_semantics\u001B[39m\u001B[38;5;124m'\u001B[39m)\n\u001B[1;32m    103\u001B[0m \u001B[38;5;28mself\u001B[39m\u001B[38;5;241m.\u001B[39mlabel3DBboxPath \u001B[38;5;241m=\u001B[39m os\u001B[38;5;241m.\u001B[39mpath\u001B[38;5;241m.\u001B[39mjoin(kitti360Path, \u001B[38;5;124m'\u001B[39m\u001B[38;5;124mdata_3d_bboxes\u001B[39m\u001B[38;5;124m'\u001B[39m)\n\u001B[0;32m--> 104\u001B[0m \u001B[38;5;28mself\u001B[39m\u001B[38;5;241m.\u001B[39mannotation3D \u001B[38;5;241m=\u001B[39m \u001B[43mAnnotation3D\u001B[49m\u001B[43m(\u001B[49m\u001B[38;5;28;43mself\u001B[39;49m\u001B[38;5;241;43m.\u001B[39;49m\u001B[43mlabel3DBboxPath\u001B[49m\u001B[43m,\u001B[49m\u001B[43m \u001B[49m\u001B[43msequence\u001B[49m\u001B[43m)\u001B[49m\n\u001B[1;32m    105\u001B[0m \u001B[38;5;28mself\u001B[39m\u001B[38;5;241m.\u001B[39mannotation3DPly \u001B[38;5;241m=\u001B[39m Annotation3DPly(\u001B[38;5;28mself\u001B[39m\u001B[38;5;241m.\u001B[39mlabel3DPcdPath, sequence)\n\u001B[1;32m    106\u001B[0m \u001B[38;5;28mself\u001B[39m\u001B[38;5;241m.\u001B[39msequence \u001B[38;5;241m=\u001B[39m sequence\n",
      "File \u001B[0;32m/mnt/D/VinAI/infer_code/KITTI360/kitti360Scripts/kitti360scripts/viewer/kitti360scripts/helpers/annotation.py:362\u001B[0m, in \u001B[0;36mAnnotation3D.__init__\u001B[0;34m(self, labelDir, sequence)\u001B[0m\n\u001B[1;32m    360\u001B[0m \u001B[38;5;28mprint\u001B[39m(\u001B[38;5;124m'\u001B[39m\u001B[38;5;124mhere is the label path:\u001B[39m\u001B[38;5;124m'\u001B[39m, labelPath)\n\u001B[1;32m    361\u001B[0m \u001B[38;5;28;01mif\u001B[39;00m \u001B[38;5;28mlen\u001B[39m(labelPath)\u001B[38;5;241m!=\u001B[39m\u001B[38;5;241m1\u001B[39m:\n\u001B[0;32m--> 362\u001B[0m     \u001B[38;5;28;01mraise\u001B[39;00m \u001B[38;5;167;01mRuntimeError\u001B[39;00m(\u001B[38;5;124m'\u001B[39m\u001B[38;5;132;01m%s\u001B[39;00m\u001B[38;5;124m does not exist! Please specify KITTI360_DATASET in your environment path.\u001B[39m\u001B[38;5;124m'\u001B[39m \u001B[38;5;241m%\u001B[39m labelPath)\n\u001B[1;32m    363\u001B[0m \u001B[38;5;28;01melse\u001B[39;00m:\n\u001B[1;32m    364\u001B[0m     labelPath \u001B[38;5;241m=\u001B[39m labelPath[\u001B[38;5;241m0\u001B[39m]\n",
      "\u001B[0;31mRuntimeError\u001B[0m: [] does not exist! Please specify KITTI360_DATASET in your environment path."
     ]
    }
   ],
   "execution_count": 3
  },
  {
   "metadata": {},
   "cell_type": "code",
   "outputs": [],
   "execution_count": null,
   "source": "",
   "id": "dd570fe5962aa07b"
  }
 ],
 "metadata": {
  "kernelspec": {
   "display_name": "Python 3 (ipykernel)",
   "language": "python",
   "name": "python3"
  },
  "language_info": {
   "codemirror_mode": {
    "name": "ipython",
    "version": 3
   },
   "file_extension": ".py",
   "mimetype": "text/x-python",
   "name": "python",
   "nbconvert_exporter": "python",
   "pygments_lexer": "ipython3",
   "version": "3.9.21"
  }
 },
 "nbformat": 4,
 "nbformat_minor": 5
}
